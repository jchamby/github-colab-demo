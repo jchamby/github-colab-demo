{
  "nbformat": 4,
  "nbformat_minor": 0,
  "metadata": {
    "colab": {
      "provenance": [],
      "authorship_tag": "ABX9TyOjuyFZ6u6wve/1UuTP86Ky",
      "include_colab_link": true
    },
    "kernelspec": {
      "name": "python3",
      "display_name": "Python 3"
    },
    "language_info": {
      "name": "python"
    }
  },
  "cells": [
    {
      "cell_type": "markdown",
      "metadata": {
        "id": "view-in-github",
        "colab_type": "text"
      },
      "source": [
        "<a href=\"https://colab.research.google.com/github/jchamby/github-colab-demo/blob/main/python/Telegram.ipynb\" target=\"_parent\"><img src=\"https://colab.research.google.com/assets/colab-badge.svg\" alt=\"Open In Colab\"/></a>"
      ]
    },
    {
      "cell_type": "markdown",
      "source": [
        "# Telegram Communication"
      ],
      "metadata": {
        "id": "shKD7eV8Jgbm"
      }
    },
    {
      "cell_type": "code",
      "source": [
        "# remove the ! when I migrate to Raspberry Pi\n",
        "!pip install python-telegram-bot==13.15\n",
        "\n",
        "# v13.15 can only support synchronous\n",
        "# If I want to support multiple users or be 'asynchronous', I will need to change the code\n"
      ],
      "metadata": {
        "colab": {
          "base_uri": "https://localhost:8080/"
        },
        "id": "2YD1m1D9OFY0",
        "outputId": "74987fef-95a7-4945-bafa-f92aecdf9d59"
      },
      "execution_count": 2,
      "outputs": [
        {
          "output_type": "stream",
          "name": "stdout",
          "text": [
            "Requirement already satisfied: python-telegram-bot==13.15 in /usr/local/lib/python3.11/dist-packages (13.15)\n",
            "Requirement already satisfied: certifi in /usr/local/lib/python3.11/dist-packages (from python-telegram-bot==13.15) (2025.8.3)\n",
            "Requirement already satisfied: tornado==6.1 in /usr/local/lib/python3.11/dist-packages (from python-telegram-bot==13.15) (6.1)\n",
            "Requirement already satisfied: APScheduler==3.6.3 in /usr/local/lib/python3.11/dist-packages (from python-telegram-bot==13.15) (3.6.3)\n",
            "Requirement already satisfied: pytz>=2018.6 in /usr/local/lib/python3.11/dist-packages (from python-telegram-bot==13.15) (2025.2)\n",
            "Requirement already satisfied: cachetools==4.2.2 in /usr/local/lib/python3.11/dist-packages (from python-telegram-bot==13.15) (4.2.2)\n",
            "Requirement already satisfied: setuptools>=0.7 in /usr/local/lib/python3.11/dist-packages (from APScheduler==3.6.3->python-telegram-bot==13.15) (75.2.0)\n",
            "Requirement already satisfied: six>=1.4.0 in /usr/local/lib/python3.11/dist-packages (from APScheduler==3.6.3->python-telegram-bot==13.15) (1.17.0)\n",
            "Requirement already satisfied: tzlocal>=1.2 in /usr/local/lib/python3.11/dist-packages (from APScheduler==3.6.3->python-telegram-bot==13.15) (5.3.1)\n"
          ]
        }
      ]
    },
    {
      "cell_type": "code",
      "source": [
        "from telegram.ext import Updater, MessageHandler, Filters"
      ],
      "metadata": {
        "id": "Vvca64hrOQqi"
      },
      "execution_count": 3,
      "outputs": []
    },
    {
      "cell_type": "code",
      "source": [
        "# === CONFIG ===\n",
        "from google.colab import userdata\n",
        "BOT_TOKEN = userdata.get('TeleStockBot_APIToken')\n",
        "CHAT_ID = userdata.get('Telegram_ChatID')"
      ],
      "metadata": {
        "id": "eVTz0pEnSlev"
      },
      "execution_count": 4,
      "outputs": []
    },
    {
      "cell_type": "code",
      "source": [
        "# Function runs when a message is received\n",
        "def handle_message(update, context):\n",
        "    text = update.message.text\n",
        "    print(f\"Received from Telegram: {text}\")  # Console log\n",
        "    update.message.reply_text(f\"Got your message: {text}\")  # Reply in Telegram"
      ],
      "metadata": {
        "id": "PFYrSuKDObsh"
      },
      "execution_count": 5,
      "outputs": []
    },
    {
      "cell_type": "code",
      "source": [
        "# Main function\n",
        "def main():\n",
        "    updater = Updater(token=BOT_TOKEN, use_context=True)\n",
        "    dp = updater.dispatcher\n",
        "\n",
        "    # Handle any text message\n",
        "    dp.add_handler(MessageHandler(Filters.text & ~Filters.command, handle_message))\n",
        "\n",
        "    # Send startup message\n",
        "    updater.bot.send_message(chat_id=CHAT_ID, text=\"Bot is now running and ready!\")\n",
        "\n",
        "    print(\"Bot started. Listening for messages...\")\n",
        "    updater.start_polling()\n",
        "    updater.idle()"
      ],
      "metadata": {
        "id": "4YprIbLFOFcb"
      },
      "execution_count": 6,
      "outputs": []
    },
    {
      "cell_type": "code",
      "source": [
        "if __name__ == \"__main__\":\n",
        "    main()"
      ],
      "metadata": {
        "colab": {
          "base_uri": "https://localhost:8080/"
        },
        "id": "EQvCnV50Of_3",
        "outputId": "cd549181-1ee9-4684-a6bc-62950dd6f53d"
      },
      "execution_count": 7,
      "outputs": [
        {
          "output_type": "stream",
          "name": "stdout",
          "text": [
            "Bot started. Listening for messages...\n",
            "Received from Telegram: Hey sexy\n"
          ]
        }
      ]
    },
    {
      "cell_type": "code",
      "source": [],
      "metadata": {
        "id": "GK6Ap5bUON05"
      },
      "execution_count": null,
      "outputs": []
    },
    {
      "cell_type": "code",
      "source": [],
      "metadata": {
        "id": "IVr3sEpqON5s"
      },
      "execution_count": null,
      "outputs": []
    },
    {
      "cell_type": "code",
      "source": [],
      "metadata": {
        "id": "KHMHyISRON-E"
      },
      "execution_count": null,
      "outputs": []
    },
    {
      "cell_type": "code",
      "source": [],
      "metadata": {
        "id": "aI2Hlw2WOOAr"
      },
      "execution_count": null,
      "outputs": []
    },
    {
      "cell_type": "code",
      "source": [],
      "metadata": {
        "id": "YSZ3F4qYOOFA"
      },
      "execution_count": null,
      "outputs": []
    }
  ]
}